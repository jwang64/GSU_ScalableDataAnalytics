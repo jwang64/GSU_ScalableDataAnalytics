{
 "cells": [
  {
   "cell_type": "code",
   "execution_count": 1,
   "metadata": {},
   "outputs": [],
   "source": [
    "import csv"
   ]
  },
  {
   "cell_type": "code",
   "execution_count": 49,
   "metadata": {},
   "outputs": [
    {
     "name": "stdout",
     "output_type": "stream",
     "text": [
      "1978\n",
      "1964\n",
      "1984\n",
      "1991\n",
      "1963\n",
      "1988\n",
      "1981\n"
     ]
    }
   ],
   "source": [
    "#def generator to iterate teh daata set only once\n",
    "def citibike_generator(filename):\n",
    "    with open(\"citibike.csv\",\"r\") as fi:\n",
    "        reader = csv.DictReader(fi)\n",
    "        \n",
    "        # Initializing values\n",
    "        start_day = '2015-02-01'\n",
    "        earliest_time = '23:59:00'\n",
    "        earliest_birthyear = 0\n",
    "        \n",
    "        # Iterating through citibike csv\n",
    "        for row in reader:\n",
    "            \n",
    "            #Checks the day of the ride\n",
    "            if(start_day == row[\"starttime\"][0:10]):\n",
    "                \n",
    "                #Assigns the current time\n",
    "                time = row[\"starttime\"][11:19]\n",
    "                \n",
    "                #Checks if the current time is earlier than the earliest time that has been saved\n",
    "                if(time < earliest_time):                    \n",
    "                    #Updates the earliest time\n",
    "                    earliest_time = time\n",
    "                    #Update the birth year of the current earliest time\n",
    "                    earliest_birthyear = row[\"birth_year\"]\n",
    "                \n",
    "                #Used to obtain the birth year of the 7th day\n",
    "                if(start_day == '2015-02-07' and time == '23:59:00'):\n",
    "                    yield earliest_birthyear\n",
    "            \n",
    "            else:    \n",
    "                #If the day changes, then the birth year of the earliest rider is captured\n",
    "                yield earliest_birthyear\n",
    "                \n",
    "                #Reset other values\n",
    "                earliest_time = '23:59:00'\n",
    "                start_day = row[\"starttime\"][0:10]\n",
    "            \n",
    "\n",
    "for birthyear in citibike_generator(\"citibike.csv\"):\n",
    "    print(birthyear)"
   ]
  },
  {
   "cell_type": "code",
   "execution_count": null,
   "metadata": {},
   "outputs": [],
   "source": []
  }
 ],
 "metadata": {
  "kernelspec": {
   "display_name": "Python 3",
   "language": "python",
   "name": "python3"
  },
  "language_info": {
   "codemirror_mode": {
    "name": "ipython",
    "version": 3
   },
   "file_extension": ".py",
   "mimetype": "text/x-python",
   "name": "python",
   "nbconvert_exporter": "python",
   "pygments_lexer": "ipython3",
   "version": "3.6.4"
  }
 },
 "nbformat": 4,
 "nbformat_minor": 4
}
