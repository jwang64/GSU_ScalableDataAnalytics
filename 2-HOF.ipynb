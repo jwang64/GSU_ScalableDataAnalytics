{
 "cells": [
  {
   "cell_type": "code",
   "execution_count": 38,
   "metadata": {},
   "outputs": [],
   "source": [
    "import pandas as pd\n",
    "from functools import reduce\n",
    "df = pd.read_csv(\"citibike.csv\")\n",
    "rows = df.values.tolist()"
   ]
  },
  {
   "cell_type": "code",
   "execution_count": 28,
   "metadata": {},
   "outputs": [],
   "source": [
    "gender_list = df['gender'].values.tolist()"
   ]
  },
  {
   "cell_type": "code",
   "execution_count": 69,
   "metadata": {},
   "outputs": [],
   "source": [
    "gender_trip = (sum(map(lambda x: x==1, gender_list)),sum(map(lambda x: x==2, gender_list)))"
   ]
  },
  {
   "cell_type": "code",
   "execution_count": 82,
   "metadata": {},
   "outputs": [
    {
     "name": "stdout",
     "output_type": "stream",
     "text": [
      "(37805, 7848)\n"
     ]
    }
   ],
   "source": [
    "print(gender_trip)"
   ]
  },
  {
   "cell_type": "code",
   "execution_count": 79,
   "metadata": {},
   "outputs": [],
   "source": [
    "birthyear_list = df['birth_year'].dropna().values.tolist()"
   ]
  },
  {
   "cell_type": "code",
   "execution_count": 80,
   "metadata": {},
   "outputs": [],
   "source": [
    "year_count = dict(map(lambda x: (x, birthyear_list.count(x)),birthyear_list))"
   ]
  },
  {
   "cell_type": "code",
   "execution_count": 83,
   "metadata": {},
   "outputs": [
    {
     "name": "stdout",
     "output_type": "stream",
     "text": [
      "{1978.0: 1377, 1993.0: 470, 1969.0: 1133, 1985.0: 1673, 1957.0: 449, 1979.0: 1279, 1983.0: 1793, 1955.0: 413, 1982.0: 1455, 1988.0: 1358, 1991.0: 922, 1990.0: 1361, 1977.0: 1122, 1968.0: 1010, 1987.0: 1730, 1980.0: 1509, 1960.0: 771, 1986.0: 1568, 1981.0: 1499, 1975.0: 1071, 1973.0: 1022, 1971.0: 1162, 1984.0: 1714, 1995.0: 256, 1994.0: 392, 1966.0: 863, 1972.0: 1081, 1964.0: 891, 1954.0: 417, 1992.0: 493, 1989.0: 1322, 1970.0: 1347, 1961.0: 618, 1974.0: 1158, 1976.0: 1168, 1959.0: 687, 1965.0: 947, 1958.0: 783, 1967.0: 999, 1963.0: 970, 1949.0: 134, 1952.0: 247, 1945.0: 28, 1948.0: 149, 1997.0: 94, 1996.0: 124, 1962.0: 899, 1950.0: 150, 1944.0: 59, 1953.0: 346, 1956.0: 488, 1951.0: 229, 1941.0: 39, 1938.0: 24, 1934.0: 8, 1947.0: 74, 1942.0: 61, 1940.0: 21, 1943.0: 18, 1946.0: 93, 1998.0: 59, 1900.0: 22, 1999.0: 17, 1935.0: 9, 1939.0: 4, 1910.0: 2, 1926.0: 1, 1929.0: 1, 1901.0: 1, 1922.0: 4}\n"
     ]
    }
   ],
   "source": [
    "print(year_count)"
   ]
  },
  {
   "cell_type": "code",
   "execution_count": null,
   "metadata": {},
   "outputs": [],
   "source": []
  }
 ],
 "metadata": {
  "kernelspec": {
   "display_name": "Python 3",
   "language": "python",
   "name": "python3"
  },
  "language_info": {
   "codemirror_mode": {
    "name": "ipython",
    "version": 3
   },
   "file_extension": ".py",
   "mimetype": "text/x-python",
   "name": "python",
   "nbconvert_exporter": "python",
   "pygments_lexer": "ipython3",
   "version": "3.8.3"
  }
 },
 "nbformat": 4,
 "nbformat_minor": 4
}
